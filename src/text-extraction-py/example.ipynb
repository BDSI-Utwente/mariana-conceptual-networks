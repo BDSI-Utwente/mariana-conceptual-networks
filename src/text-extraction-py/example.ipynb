{
 "metadata": {
  "language_info": {
   "codemirror_mode": {
    "name": "ipython",
    "version": 3
   },
   "file_extension": ".py",
   "mimetype": "text/x-python",
   "name": "python",
   "nbconvert_exporter": "python",
   "pygments_lexer": "ipython3",
   "version": "3.8.5"
  },
  "orig_nbformat": 4,
  "kernelspec": {
   "name": "python3",
   "display_name": "Python 3.8.5 64-bit ('mariana-conceptual-networks-7Z2cxEsJ': pipenv)"
  },
  "interpreter": {
   "hash": "1a293258f899cc7dae4b9b93737c2b8396bc4164743f8bf0072f8d00280b15a5"
  }
 },
 "nbformat": 4,
 "nbformat_minor": 2,
 "cells": [
  {
   "cell_type": "markdown",
   "source": [
    "# Example workflow\n",
    "\n",
    "There are three distinct steps for the workflow;\n",
    "    \n",
    "1. extract text from docx, pdf, etc.\n",
    "2. anonymize text\n",
    "3. if applicable, obtain new content from a series of repeated log books"
   ],
   "metadata": {}
  },
  {
   "cell_type": "code",
   "execution_count": 1,
   "source": [
    "from eac_py import extract, anonymize, complement\r\n",
    "\r\n",
    "import os\r\n",
    "from pathlib import Path"
   ],
   "outputs": [],
   "metadata": {}
  },
  {
   "cell_type": "markdown",
   "source": [
    "## Data\n",
    "\n",
    "We'll use a subset of the logbook data as an example. I've renamed and organized all the logbooks for group 1, and separated them from the main data."
   ],
   "metadata": {}
  },
  {
   "cell_type": "code",
   "execution_count": 2,
   "source": [
    "files = os.listdir(\"../../data/example/raw\")\r\n",
    "files"
   ],
   "outputs": [
    {
     "output_type": "execute_result",
     "data": {
      "text/plain": [
       "['01.docx',\n",
       " '02.docx',\n",
       " '03.pdf',\n",
       " '04.pdf',\n",
       " '05.pdf',\n",
       " '06.pdf',\n",
       " '07.pdf',\n",
       " '08.pdf',\n",
       " '09.pdf',\n",
       " '10.pdf']"
      ]
     },
     "metadata": {},
     "execution_count": 2
    }
   ],
   "metadata": {}
  },
  {
   "cell_type": "markdown",
   "source": [
    "As you can see, the logbooks are a mix of Word (.docx) and PDF (.pdf) documents. As far as our pipeline is concerned, this should not matter."
   ],
   "metadata": {}
  },
  {
   "cell_type": "code",
   "execution_count": 3,
   "source": [
    "# keep track of document status over time\r\n",
    "previous = \"\"\r\n",
    "\r\n",
    "# we have a list of known actors that might appear in the document\r\n",
    "known_actors = [\"Hamada Abou Zarad\", \"Mohammed\", \"Joyce Rops\", \"Joyce\", \"Naud de Adelhart Toorop\", \"Naud\", \"Jelle Room\", \"Jelle\", \"Marie Appelman\", \"Marie\", \"Pepijn Bakker\", \"Pepijn\", \"Luuk Baten\", \"Luuk\"]\r\n",
    "\r\n",
    "# define some regex patterns for common private data\r\n",
    "student_number = r\"[sSmMxX]\\d{7}\"   # s, m or x followed by 7 digits.\r\n",
    "email_adress = r\"(\\w+\\.)*\\w+\\d*@(student\\.)?utwente\\.nl\" # *@[student.]utwente.nl\r\n",
    "\r\n",
    "# loop over the log books\r\n",
    "for i, file in enumerate(files, start=1):\r\n",
    "    \r\n",
    "    # obtain a standardized path to the file\r\n",
    "    path = Path(\"../../data/example/raw/\" + file)\r\n",
    "    print(path)\r\n",
    "\r\n",
    "    # extract text\r\n",
    "    text = extract.extract_text(path)\r\n",
    "\r\n",
    "    # get named entities from the cover page\r\n",
    "    cover = extract.extract_text(path, 0)\r\n",
    "    actors = anonymize.get_person_entities(cover)\r\n",
    "    actors.extend(known_actors)\r\n",
    "\r\n",
    "    # anonymize the text\r\n",
    "    text = anonymize.anonymize(text, actors, [student_number, email_adress])\r\n",
    "\r\n",
    "    # remove repeated materials\r\n",
    "    new_content = complement.complement(previous, text)\r\n",
    "    with open(f\"../../data/example/clean/log-{i}.txt\", \"wb\") as file:\r\n",
    "        file.write(new_content.encode(\"utf8\"))\r\n",
    "\r\n",
    "    # keep track of the current document to compare the next document to\r\n",
    "    previous = text\r\n",
    "\r\n"
   ],
   "outputs": [
    {
     "output_type": "stream",
     "name": "stdout",
     "text": [
      "..\\..\\data\\example\\raw\\01.docx\n",
      "..\\..\\data\\example\\raw\\01.docx -> ..\\..\\data\\example\\raw\\01.tmp.pdf\n",
      "100%|██████████| 1/1 [00:01<00:00,  1.44s/it]\n",
      "..\\..\\data\\example\\raw\\02.docx\n",
      "..\\..\\data\\example\\raw\\02.docx -> ..\\..\\data\\example\\raw\\02.tmp.pdf\n",
      "100%|██████████| 1/1 [00:02<00:00,  2.02s/it]\n",
      "..\\..\\data\\example\\raw\\03.pdf\n",
      "..\\..\\data\\example\\raw\\04.pdf\n",
      "..\\..\\data\\example\\raw\\05.pdf\n",
      "..\\..\\data\\example\\raw\\06.pdf\n",
      "..\\..\\data\\example\\raw\\07.pdf\n",
      "..\\..\\data\\example\\raw\\08.pdf\n",
      "..\\..\\data\\example\\raw\\09.pdf\n",
      "..\\..\\data\\example\\raw\\10.pdf\n"
     ]
    }
   ],
   "metadata": {
    "tags": []
   }
  },
  {
   "cell_type": "code",
   "execution_count": null,
   "source": [],
   "outputs": [],
   "metadata": {}
  }
 ]
}